{
  "cells": [
    {
      "metadata": {
        "_cell_guid": "79c7e3d0-c299-4dcb-8224-4455121ee9b0",
        "_uuid": "d629ff2d2480ee46fbb7e2d37f6b5fab8052498a",
        "trusted": true
      },
      "cell_type": "code",
      "source": "import numpy as np\nimport pandas as pd\npd.set_option('display.float_format', lambda x: '{:.3f}'.format(x))\nimport matplotlib.pyplot as plt\n%matplotlib inline\nplt.style.use('ggplot')\nimport seaborn as sns\nsns.set_style('darkgrid')\nfrom scipy import stats\nfrom scipy.stats import skew, norm\nimport warnings\nwarnings.filterwarnings('ignore')",
      "execution_count": null,
      "outputs": []
    },
    {
      "metadata": {
        "trusted": true,
        "_uuid": "4fc3b387435259d3f9b9a743937c787f73ef9986"
      },
      "cell_type": "code",
      "source": "train = pd.read_csv('../input/train.csv')\ntest = pd.read_csv('../input/test.csv')",
      "execution_count": null,
      "outputs": []
    },
    {
      "metadata": {
        "trusted": true,
        "_uuid": "af32839e8581c4f171b7a02297ec2c13164b660e"
      },
      "cell_type": "code",
      "source": "# saving and then dropping the ID column from the test and train\ntrain_ID = train.Id\ntest_ID = test.Id\n\ntrain.drop('Id', axis = 1, inplace = True)\ntest.drop('Id', axis = 1, inplace = True)",
      "execution_count": null,
      "outputs": []
    },
    {
      "metadata": {
        "trusted": true,
        "_uuid": "57c9e5aa8cdf7a358f5b82e7f7ae14ffdd6168e0"
      },
      "cell_type": "code",
      "source": "fig, ax = plt.subplots()\nax.scatter(train.GrLivArea, train.SalePrice)\nplt.xlabel('GrLivArea')\nplt.ylabel('SalePrice')\nplt.show()",
      "execution_count": null,
      "outputs": []
    },
    {
      "metadata": {
        "trusted": true,
        "_uuid": "f8477738319664c962e1aeca3db592bbcc57001c"
      },
      "cell_type": "code",
      "source": "# removal of outliers\ntrain = train.drop(train[(train['GrLivArea'] > 4000) & (train['SalePrice'] < 300000)].index)\n\nfig, ax = plt.subplots()\nax.scatter(train['GrLivArea'], train['SalePrice'])\nplt.xlabel('GrLivArea')\nplt.ylabel('SalePrice')\nplt.show()",
      "execution_count": null,
      "outputs": []
    },
    {
      "metadata": {
        "trusted": true,
        "_uuid": "0370eb85b96aa6a6039cc2479431e4fad85aeed0"
      },
      "cell_type": "code",
      "source": "# Histogram of SalePrice\nsns.distplot(train['SalePrice'], fit = norm)\n\nmu, sigma = norm.fit(train['SalePrice'])\nprint('\\n mu: {:.2f} and sigma: {:.2f}'.format(mu, sigma))\n\nplt.legend(['Normal Dist: $\\mu$ = {:.2f} and $\\sigma$ = {:.2f}'.format(mu, sigma)], loc = 'best')\nplt.ylabel('Frequeuncy')\nplt.title('SalePrice Distribution')\nplt.show()\n\n# Q-Q plot for SalePrice\nres = stats.probplot(train['SalePrice'], plot = plt)\nplt.show()",
      "execution_count": null,
      "outputs": []
    },
    {
      "metadata": {
        "trusted": true,
        "_uuid": "7e5c163ca7542d89f1b9398ae4a8255bc23a5d00"
      },
      "cell_type": "code",
      "source": "# Taking log transformation of SalePrice\ntrain['SalePrice'] = np.log1p(train['SalePrice'])\n\nmu, sigma = norm.fit(train['SalePrice'])\nprint('\\n mu: {:.2f} and sigma: {:.2f}'.format(mu, sigma))\n\nsns.distplot(train['SalePrice'], fit = norm)\nplt.legend(['Normal Dist: $\\mu$ = {:.2f} and $\\sigma$ = {:.2f}'.format(mu, sigma)], loc = 'best')\nplt.ylabel('Frequeuncy')\nplt.title('SalePrice Distribution')\nplt.show()\n\nstats.probplot(train['SalePrice'], plot = plt)\nplt.show()",
      "execution_count": null,
      "outputs": []
    },
    {
      "metadata": {
        "trusted": true,
        "_uuid": "db56a857f066ac3d417cee725cee5408b238a4ec"
      },
      "cell_type": "code",
      "source": "# Concatenating train and test dataset\n\nntrain = train.shape[0]\nntest = test.shape[0]\n\ny_train = train.SalePrice.values\nall_data = pd.concat([train, test]).reset_index(drop = True)\nall_data.drop(['SalePrice'], axis=1,inplace = True)\nprint('Shape of all_data: {}'.format(all_data.shape))",
      "execution_count": null,
      "outputs": []
    },
    {
      "metadata": {
        "trusted": true,
        "_uuid": "2021f0b92a30ef5a5ccd6fc7c226544ef14797ed"
      },
      "cell_type": "code",
      "source": "all_data_na = (all_data.isnull().sum() / len(all_data)) * 100\nall_data_na = all_data_na.sort_values(ascending=False)\nmissing_data = pd.DataFrame({'missing_values': all_data_na})\nmissing_data[:20]",
      "execution_count": null,
      "outputs": []
    },
    {
      "metadata": {
        "trusted": true,
        "_uuid": "8b696affb56c9a8ae31ebdc358e97aa908c01f8f"
      },
      "cell_type": "code",
      "source": "f, ax = plt.subplots(figsize=(10, 7))\nplt.xticks(rotation='90')\nsns.barplot(x=all_data_na.index, y=all_data_na.values)\nplt.xlabel('Features', fontsize=15)\nplt.ylabel('Percent of missing values', fontsize=15)\nplt.title('Percent missing data by feature', fontsize=15)",
      "execution_count": null,
      "outputs": []
    },
    {
      "metadata": {
        "trusted": true,
        "_uuid": "d49e103622f31b35151df4a8a96248e36a09927e"
      },
      "cell_type": "code",
      "source": "train_corr = train.corr()\nplt.subplots(figsize = (12, 9))\nsns.heatmap(train_corr, robust= True, cmap='magma', vmax = 0.9)",
      "execution_count": null,
      "outputs": []
    },
    {
      "metadata": {
        "_uuid": "d116953d7d6ab109a1ab030b85594d8f727e9079"
      },
      "cell_type": "raw",
      "source": ""
    },
    {
      "metadata": {
        "trusted": true,
        "_uuid": "9b68dc9525e0d812436c0abcfba3f008d8098b4c"
      },
      "cell_type": "code",
      "source": "# Imputing missing values\nall_data['PoolQC'] = all_data['PoolQC'].fillna('None')\nall_data[\"MiscFeature\"] = all_data[\"MiscFeature\"].fillna(\"None\")\nall_data[\"Alley\"] = all_data[\"Alley\"].fillna(\"None\")\nall_data[\"Fence\"] = all_data[\"Fence\"].fillna(\"None\")\nall_data[\"FireplaceQu\"] = all_data[\"FireplaceQu\"].fillna(\"None\")",
      "execution_count": null,
      "outputs": []
    },
    {
      "metadata": {
        "trusted": true,
        "_uuid": "2ef5a5e772e76f560f56f12a0e8332df23fbbba2"
      },
      "cell_type": "code",
      "source": "# Filling with median of neighborhood frontage area\nall_data[\"LotFrontage\"] = all_data.groupby(\"Neighborhood\")[\"LotFrontage\"].transform(lambda x: x.fillna(x.median()))",
      "execution_count": null,
      "outputs": []
    },
    {
      "metadata": {
        "trusted": true,
        "_uuid": "637a1d3161471107f59e3e52e97b75a72b446c9d"
      },
      "cell_type": "code",
      "source": "for col in ('GarageType', 'GarageFinish', 'GarageQual', 'GarageCond'):\n    all_data[col] = all_data[col].fillna('None')\n    \nfor col in ('GarageYrBlt', 'GarageArea', 'GarageCars'):\n    all_data[col] = all_data[col].fillna(0)\n    \nfor col in ('BsmtFinSF1', 'BsmtFinSF2', 'BsmtUnfSF','TotalBsmtSF', 'BsmtFullBath', 'BsmtHalfBath'):\n    all_data[col] = all_data[col].fillna(0)\n    \nfor col in ('BsmtQual', 'BsmtCond', 'BsmtExposure', 'BsmtFinType1', 'BsmtFinType2'):\n    all_data[col] = all_data[col].fillna('None')\n    \nall_data[\"MasVnrType\"] = all_data[\"MasVnrType\"].fillna(\"None\")\nall_data[\"MasVnrArea\"] = all_data[\"MasVnrArea\"].fillna(0)\n\n# Filling up with mode value\nall_data['MSZoning'] = all_data['MSZoning'].fillna(all_data['MSZoning'].mode()[0])\nall_data['Electrical'] = all_data['Electrical'].fillna(all_data['Electrical'].mode()[0])\nall_data['KitchenQual'] = all_data['KitchenQual'].fillna(all_data['KitchenQual'].mode()[0])\nall_data['Exterior1st'] = all_data['Exterior1st'].fillna(all_data['Exterior1st'].mode()[0])\nall_data['Exterior2nd'] = all_data['Exterior2nd'].fillna(all_data['Exterior2nd'].mode()[0])\nall_data['SaleType'] = all_data['SaleType'].fillna(all_data['SaleType'].mode()[0])\n\n\n# Dropping Utilities\nall_data = all_data.drop(['Utilities'], axis=1)\n\nall_data[\"Functional\"] = all_data[\"Functional\"].fillna(\"Typ\")\nall_data['MSSubClass'] = all_data['MSSubClass'].fillna(\"None\")",
      "execution_count": null,
      "outputs": []
    },
    {
      "metadata": {
        "trusted": true,
        "_uuid": "f836ba960929ee9a660f7170ceb02a2af6ad2192"
      },
      "cell_type": "code",
      "source": "# Again checking for missing values\n\nall_data_na = (all_data.isnull().sum() / len(all_data)) * 100\nall_data_na = all_data_na.drop(all_data_na[all_data_na == 0].index).sort_values(ascending=False)\nmissing_data = pd.DataFrame({'Missing Ratio' :all_data_na})\nmissing_data.head()",
      "execution_count": null,
      "outputs": []
    },
    {
      "metadata": {
        "trusted": true,
        "_uuid": "e04a04567d86a358165437965af28a904539e35a"
      },
      "cell_type": "code",
      "source": "all_data['MSSubClass'] = all_data['MSSubClass'].apply(str)\n\n\n#Changing OverallCond into a categorical variable\nall_data['OverallCond'] = all_data['OverallCond'].astype(str)\n\n\n#Year and month sold are transformed into categorical features.\nall_data['YrSold'] = all_data['YrSold'].astype(str)\nall_data['MoSold'] = all_data['MoSold'].astype(str)",
      "execution_count": null,
      "outputs": []
    },
    {
      "metadata": {
        "trusted": true,
        "_uuid": "c740fb6355176d1f6b7476eb7d11c2065a71617d"
      },
      "cell_type": "code",
      "source": "# Label Encodeing of some variables which may have some information in their order\n\nfrom sklearn.preprocessing import LabelEncoder\n\ncols = ('FireplaceQu', 'BsmtQual', 'BsmtCond', 'GarageQual', 'GarageCond', \n        'ExterQual', 'ExterCond','HeatingQC', 'PoolQC', 'KitchenQual', 'BsmtFinType1', \n        'BsmtFinType2', 'Functional', 'Fence', 'BsmtExposure', 'GarageFinish', 'LandSlope',\n        'LotShape', 'PavedDrive', 'Street', 'Alley', 'CentralAir', 'MSSubClass', 'OverallCond', \n        'YrSold', 'MoSold')\n\nfor c in cols:\n    labelEncoder = LabelEncoder()\n    all_data[c] = labelEncoder.fit_transform(all_data[c])\n    \nprint('Shape all_data: {}'.format(all_data.shape))",
      "execution_count": null,
      "outputs": []
    },
    {
      "metadata": {
        "trusted": true,
        "_uuid": "67f0990181391fc6b597227e65ba70d36170d610"
      },
      "cell_type": "code",
      "source": "# Adding another variable as area related features are important for house prices\nall_data['TotalSF'] = all_data['TotalBsmtSF'] + all_data['1stFlrSF'] + all_data['2ndFlrSF']",
      "execution_count": null,
      "outputs": []
    },
    {
      "metadata": {
        "trusted": true,
        "_uuid": "05d5ff735810bd2ab3990214a3212ae912911641"
      },
      "cell_type": "code",
      "source": "# Getting list of skewed variables\nnumeric_feat = all_data.dtypes[all_data.dtypes != 'object'].index\n\nskew_feats = all_data[numeric_feat].apply(lambda x: skew(x.dropna())).sort_values(ascending = False)\nskewness = pd.DataFrame({'Skew_features': skew_feats})\nskewness.head(10)",
      "execution_count": null,
      "outputs": []
    },
    {
      "metadata": {
        "trusted": true,
        "_uuid": "c23b9c1d3e7c6f8b2c6fc15b1aa3f1204cc866d4"
      },
      "cell_type": "code",
      "source": "skewness = skewness[abs(skewness) > 0.75]\nprint('Number of variables for BoxCox transformation: ' + str(skewness.shape[0]))\n\nfrom scipy.special import boxcox1p\nskewed_features = skewness.index\nlambd = 0.15\nfor feature in skewed_features:\n    all_data[feature] = boxcox1p(all_data[feature], lambd)",
      "execution_count": null,
      "outputs": []
    },
    {
      "metadata": {
        "trusted": true,
        "_uuid": "54067a9655a7520be770463977d6ee7875fdd85b"
      },
      "cell_type": "code",
      "source": "all_data = pd.get_dummies(all_data)\nprint(all_data.shape)",
      "execution_count": null,
      "outputs": []
    },
    {
      "metadata": {
        "_kg_hide-output": true,
        "trusted": true,
        "_uuid": "95a5349c5309591f7babdff9669118f38ff7d085"
      },
      "cell_type": "code",
      "source": "# Getting back train and test data\n\ntrain = all_data[:ntrain]\ntest = all_data[ntrain:]",
      "execution_count": null,
      "outputs": []
    },
    {
      "metadata": {
        "trusted": true,
        "_uuid": "8e454a00676044a9e91028af9c26ac3c43f7c71e"
      },
      "cell_type": "code",
      "source": "from sklearn.linear_model import ElasticNet, Lasso, BayesianRidge, LassoLarsIC\nfrom sklearn.ensemble import RandomForestRegressor, GradientBoostingRegressor\nfrom sklearn.kernel_ridge import KernelRidge\nfrom sklearn.pipeline import make_pipeline\nfrom sklearn.preprocessing import RobustScaler\nfrom sklearn.base import TransformerMixin, BaseEstimator, RegressorMixin, clone\nfrom sklearn.model_selection import KFold, train_test_split, cross_val_score\nfrom sklearn.metrics import mean_squared_error\nimport xgboost as xgb\nimport lightgbm as lgb",
      "execution_count": null,
      "outputs": []
    },
    {
      "metadata": {
        "trusted": true,
        "_uuid": "0952adbf7c1f860525aa6f7b55bbd1c86ddb2595"
      },
      "cell_type": "code",
      "source": "# Setting up cross validation strategy\nn_folds = 5\n\ndef rmsle_cv(model):\n    kf = KFold(n_folds, shuffle=True, random_state=42).get_n_splits(train.values)\n    rmse = np.sqrt(abs(cross_val_score(model, train.values, y_train, scoring='neg_mean_squared_error', cv = kf)))\n    return rmse",
      "execution_count": null,
      "outputs": []
    },
    {
      "metadata": {
        "trusted": true,
        "_uuid": "953f08e6bd270fdebea84d1cf01bc5036d049d2c"
      },
      "cell_type": "code",
      "source": "lasso = make_pipeline(RobustScaler(), Lasso(alpha = 0.0005, random_state=1))",
      "execution_count": null,
      "outputs": []
    },
    {
      "metadata": {
        "trusted": true,
        "_uuid": "77c76473869ede2addd8b81b124756862a4d0433"
      },
      "cell_type": "code",
      "source": "ENet = make_pipeline(RobustScaler(), ElasticNet(alpha=0.0005, l1_ratio=0.9, random_state=1))",
      "execution_count": null,
      "outputs": []
    },
    {
      "metadata": {
        "trusted": true,
        "_uuid": "d41f1db942f6352d2266f43de9d0ba79d01c4ed1"
      },
      "cell_type": "code",
      "source": "KRR = KernelRidge(alpha = 0.6, kernel='polynomial', degree=2, coef0=2.5)",
      "execution_count": null,
      "outputs": []
    },
    {
      "metadata": {
        "trusted": true,
        "_uuid": "8ec667a12e5e8634de95cdc3c8230323621bfd3f"
      },
      "cell_type": "code",
      "source": "GBoost = GradientBoostingRegressor(n_estimators=3000, learning_rate=0.05,\n                                   max_depth=4, max_features='sqrt',\n                                   min_samples_leaf=15, min_samples_split=10, \n                                   loss='huber', random_state =5)",
      "execution_count": null,
      "outputs": []
    },
    {
      "metadata": {
        "trusted": true,
        "_uuid": "f8e80d6d1108bc0e94ae022450e312cddb7cc9cd"
      },
      "cell_type": "code",
      "source": "model_xgb = xgb.XGBRegressor(colsample_bytree=0.4603, gamma=0.0468, \n                             learning_rate=0.05, max_depth=3, \n                             min_child_weight=1.7817, n_estimators=2200,\n                             reg_alpha=0.4640, reg_lambda=0.8571,\n                             subsample=0.5213, silent=1,\n                             random_state =7, nthread = -1)",
      "execution_count": null,
      "outputs": []
    },
    {
      "metadata": {
        "trusted": true,
        "_uuid": "00b65e4cd4fcd388c2431ee7ed7305f21b729f91"
      },
      "cell_type": "code",
      "source": "model_lgb = lgb.LGBMRegressor(objective='regression',num_leaves=5,\n                              learning_rate=0.05, n_estimators=720,\n                              max_bin = 55, bagging_fraction = 0.8,\n                              bagging_freq = 5, feature_fraction = 0.2319,\n                              feature_fraction_seed=9, bagging_seed=9,\n                              min_data_in_leaf =6, min_sum_hessian_in_leaf = 11)",
      "execution_count": null,
      "outputs": []
    },
    {
      "metadata": {
        "trusted": true,
        "_uuid": "308cb14a69480f5ec361d5a57043822ff25ae098"
      },
      "cell_type": "code",
      "source": "score = rmsle_cv(lasso)\nprint('\\n Lasso score: {:.4f} ({:.4f})\\n'.format(score.mean(), score.std()))",
      "execution_count": null,
      "outputs": []
    },
    {
      "metadata": {
        "trusted": true,
        "_uuid": "39477274cf533191f4d636ccb455eafd86fa566b"
      },
      "cell_type": "code",
      "source": "score = rmsle_cv(ENet)\nprint('\\n ElasticNet score: {:.4f} ({:.4f})\\n'.format(score.mean(), score.std()))",
      "execution_count": null,
      "outputs": []
    },
    {
      "metadata": {
        "trusted": true,
        "_uuid": "268a1083bd96128da0cdc709e57424127f41dce8"
      },
      "cell_type": "code",
      "source": "score = rmsle_cv(KRR)\nprint('\\n KRR score: {:.4f} ({:.4f})\\n'.format(score.mean(), score.std()))",
      "execution_count": null,
      "outputs": []
    },
    {
      "metadata": {
        "trusted": true,
        "_uuid": "d5679d6442369b421b78a53e70d445ab8c4685f2"
      },
      "cell_type": "code",
      "source": "score = rmsle_cv(GBoost)\nprint('\\n Gradient Boosting score: {:.4f} ({:.4f})\\n'.format(score.mean(), score.std()))",
      "execution_count": null,
      "outputs": []
    },
    {
      "metadata": {
        "trusted": true,
        "_uuid": "5c972d4be63e5a61540b38feaa039d1722826a7a"
      },
      "cell_type": "code",
      "source": "score = rmsle_cv(model_xgb)\nprint('\\n XGBoost score: {:.4f} ({:.4f})\\n'.format(score.mean(), score.std()))",
      "execution_count": null,
      "outputs": []
    },
    {
      "metadata": {
        "trusted": true,
        "_uuid": "3dfb14824ea014b61075843877cf9b6a5f5d2f43"
      },
      "cell_type": "code",
      "source": "score = rmsle_cv(model_lgb)\nprint('\\n Light GBM score: {:.4f} ({:.4f})\\n'.format(score.mean(), score.std()))",
      "execution_count": null,
      "outputs": []
    },
    {
      "metadata": {
        "trusted": true,
        "_uuid": "3ccbab8253ef8d1c231bbbf9dbbe49d97aeee6ef"
      },
      "cell_type": "code",
      "source": "class AveragingModels(BaseEstimator, RegressorMixin, TransformerMixin):\n    \n    def __init__(self, models):\n        self.models = models\n    \n    def fit(self, X, y):\n        self.models_ = [clone(x) for x in self.models]\n        \n        for model in self.models_:\n            model.fit(X, y)\n        return self\n    \n    def predict(self, X):\n        predictions = np.column_stack([model.predict(X) for model in self.models_])\n        return np.mean(predictions, axis = 1)",
      "execution_count": null,
      "outputs": []
    },
    {
      "metadata": {
        "trusted": true,
        "_uuid": "7f5280cfd3695cb801397b3269a01c7662bb524e"
      },
      "cell_type": "code",
      "source": "averaged_model = AveragingModels((ENet, GBoost, KRR, lasso))\n\nscore = rmsle_cv(averaged_model)\nprint('\\n Averaged Model score: {:.4f} ({:.4f})\\n'.format(score.mean(), score.std()))",
      "execution_count": null,
      "outputs": []
    },
    {
      "metadata": {
        "trusted": true,
        "_uuid": "d18ce38efd92e4d2ccfc79c3620edac16c29db91"
      },
      "cell_type": "code",
      "source": "averaged_model = AveragingModels((ENet, GBoost, KRR, lasso, model_lgb, model_xgb))\n\nscore = rmsle_cv(averaged_model)\nprint('\\n Averaged Model score: {:.4f} ({:.4f})\\n'.format(score.mean(), score.std()))",
      "execution_count": null,
      "outputs": []
    },
    {
      "metadata": {
        "trusted": true,
        "_uuid": "47e4955663a14c18dfcf9a019c508a3761046e32"
      },
      "cell_type": "code",
      "source": "class StackingAveragedModels(BaseEstimator, RegressorMixin, TransformerMixin):\n    \n    def __init__(self, base_models, meta_model, n_folds=5):\n        self.base_models = base_models\n        self.meta_model = meta_model\n        self.n_folds = n_folds\n        \n    def fit(self, X, y):\n        self.base_models_ = [list() for x in self.base_models]\n        self.meta_model_ = clone(self.meta_model)\n        kfold = KFold(n_folds, shuffle = True, random_state=156)\n        \n        out_of_fold_predictions = np.zeros((X.shape[0],len(self.base_models)))\n        for i, model in enumerate(self.base_models):\n            for train_index, holdout_index in kfold.split(X, y):\n                instance = clone(model)\n                instance.fit(X[train_index], y[train_index])\n                self.base_models_[i].append(instance)\n                y_pred = instance.predict(X[holdout_index])\n                out_of_fold_predictions[holdout_index, i] = y_pred\n                \n        self.meta_model_.fit(out_of_fold_predictions, y)\n        return self\n    \n    def predict(self, X):\n        meta_features = np.column_stack([np.column_stack([model.predict(X) for model in base_models]).mean(axis = 1) for base_models in self.base_models_])\n        return self.meta_model_.predict(meta_features)   ",
      "execution_count": null,
      "outputs": []
    },
    {
      "metadata": {
        "trusted": true,
        "_uuid": "f8ac83a692232ef977c037885d333e655e54e9f9"
      },
      "cell_type": "code",
      "source": "stacked_averaged_models = StackingAveragedModels(base_models=(ENet, GBoost, KRR), meta_model=lasso)\n\nscore = rmsle_cv(stacked_averaged_models)\nprint(\"Stacking Averaged models score: {:.4f} ({:.4f})\".format(score.mean(), score.std()))",
      "execution_count": null,
      "outputs": []
    },
    {
      "metadata": {
        "trusted": true,
        "_uuid": "abd27732cb969042651fb95d5873d8e61b5fcd6d"
      },
      "cell_type": "code",
      "source": "def rmsle(y, y_pred):\n    return np.sqrt(mean_squared_error(y, y_pred))",
      "execution_count": null,
      "outputs": []
    },
    {
      "metadata": {
        "trusted": true,
        "_uuid": "2c7b1910977a30ca462640ffbba3527d5a3afe88"
      },
      "cell_type": "code",
      "source": "stacked_averaged_models.fit(train.values, y_train)\nstacked_trained_pred = stacked_averaged_models.predict(train.values)\nstacked_pred = np.expm1(stacked_averaged_models.predict(test.values))\nprint(rmsle(y_train, stacked_trained_pred))",
      "execution_count": null,
      "outputs": []
    },
    {
      "metadata": {
        "trusted": true,
        "_uuid": "0dc99ef5d5686fbf38c7bfd0f43229fc170ec6da"
      },
      "cell_type": "code",
      "source": "model_xgb.fit(train, y_train)\nxgb_train_pred = model_xgb.predict(train)\nxgb_pred = np.expm1(model_xgb.predict(test))\nprint(rmsle(y_train, xgb_train_pred))",
      "execution_count": null,
      "outputs": []
    },
    {
      "metadata": {
        "trusted": true,
        "_uuid": "5d47f7eb2e29e70a6e4989fcb306d71b448a3b08"
      },
      "cell_type": "code",
      "source": "model_lgb.fit(train, y_train)\nlgb_train_pred = model_lgb.predict(train)\nlgb_pred = np.expm1(model_lgb.predict(test.values))\nprint(rmsle(y_train, lgb_train_pred))",
      "execution_count": null,
      "outputs": []
    },
    {
      "metadata": {
        "trusted": true,
        "_uuid": "b85729ce6457bae7016cdfdc336341078bb11d46"
      },
      "cell_type": "code",
      "source": "print('RMSLE score on train data:')\nprint(rmsle(y_train,stacked_trained_pred*0.70 +\n               xgb_train_pred*0.15 + lgb_train_pred*0.15 ))",
      "execution_count": null,
      "outputs": []
    },
    {
      "metadata": {
        "trusted": true,
        "_uuid": "5a61b09c5b54e14ef4daa372957977ec033fe1e1"
      },
      "cell_type": "code",
      "source": "ensemble = stacked_pred*0.70 + xgb_pred*0.15 + lgb_pred*0.15",
      "execution_count": null,
      "outputs": []
    },
    {
      "metadata": {
        "trusted": true,
        "_uuid": "99f5e57dca2fd2d4c2b7a6ecdd2b4c34ec41d9ee"
      },
      "cell_type": "code",
      "source": "sub = pd.DataFrame()\nsub['Id'] = test_ID\nsub['SalePrice'] = ensemble\nsub.to_csv('submission.csv',index=False)",
      "execution_count": null,
      "outputs": []
    },
    {
      "metadata": {
        "trusted": true,
        "_uuid": "952e2290b4b9434192fde48a8dd15d58f51196e9"
      },
      "cell_type": "code",
      "source": "submission = pd.read_csv('submission.csv')",
      "execution_count": null,
      "outputs": []
    }
  ],
  "metadata": {
    "_change_revision": 0,
    "_is_fork": false,
    "kernelspec": {
      "display_name": "Python 3",
      "language": "python",
      "name": "python3"
    },
    "language_info": {
      "name": "python",
      "version": "3.6.6",
      "mimetype": "text/x-python",
      "codemirror_mode": {
        "name": "ipython",
        "version": 3
      },
      "pygments_lexer": "ipython3",
      "nbconvert_exporter": "python",
      "file_extension": ".py"
    }
  },
  "nbformat": 4,
  "nbformat_minor": 1
}